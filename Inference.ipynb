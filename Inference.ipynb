{
 "cells": [
  {
   "cell_type": "markdown",
   "metadata": {},
   "source": [
    "# Pneumonia detection - Clinical workflow integration test\n",
    "\n",
    "In this notebook we will use our trained Pneumonia classification model to do an inference test on some test medical images to demonstrate a part of the clinical workflow integration.\n",
    "\n",
    "## Import libraries"
   ]
  },
  {
   "cell_type": "code",
   "execution_count": 1,
   "metadata": {},
   "outputs": [
    {
     "name": "stderr",
     "output_type": "stream",
     "text": [
      "Using TensorFlow backend.\n"
     ]
    }
   ],
   "source": [
    "import numpy as np\n",
    "import pandas as pd\n",
    "import pydicom\n",
    "%matplotlib inline\n",
    "import matplotlib.pyplot as plt\n",
    "import keras \n",
    "from keras.models import model_from_json\n",
    "from skimage.transform import resize"
   ]
  },
  {
   "cell_type": "code",
   "execution_count": 2,
   "metadata": {},
   "outputs": [],
   "source": [
    "# This function reads in a .dcm file, checks the important fields for our device, and returns a numpy array\n",
    "# of just the imaging data\n",
    "def check_dicom(filename): \n",
    "    \n",
    "    print('Load file {} ...'.format(filename))\n",
    "    ds = pydicom.dcmread(filename)       \n",
    "    \n",
    "    # check fields for required values\n",
    "    if (ds.BodyPartExamined !='CHEST') | (ds.Modality !='DX') | (ds.PatientPosition not in ['PA', 'AP']):\n",
    "        img=None\n",
    "    else:\n",
    "        img = ds.pixel_array\n",
    "\n",
    "    return img\n",
    "    \n",
    "    \n",
    "# This function takes the numpy array output by check_dicom and \n",
    "# runs the appropriate pre-processing needed for our model input\n",
    "def preprocess_image(img): \n",
    "    \n",
    "    img = img[:,:,None]\n",
    "    img = resize(img, (1,224,224,3)) \n",
    "    img = np.asarray(img)\n",
    "    proc_img = img / 255.0\n",
    "    return proc_img\n",
    "\n",
    "\n",
    "# This function loads in our trained model w/ weights and compiles it \n",
    "def load_model(model_path, weight_path):\n",
    "    \n",
    "    json_file = open(model_path, 'r')\n",
    "    loaded_model_json = json_file.read()\n",
    "    json_file.close()\n",
    "    model = model_from_json(loaded_model_json)\n",
    "    model.load_weights(weight_path)\n",
    "    \n",
    "    return model\n",
    "\n",
    "# This function uses our device's threshold parameters to predict whether or not\n",
    "# the image shows the presence of pneumonia using our trained model\n",
    "def predict_image(model, img, thresh): \n",
    "    \n",
    "    result = model.predict(img)\n",
    "    prediction = result[0]\n",
    "    if prediction > thresh:\n",
    "        print('Pneumonia detected')\n",
    "    else:\n",
    "        print('No disease')\n",
    "    return prediction "
   ]
  },
  {
   "cell_type": "code",
   "execution_count": 3,
   "metadata": {},
   "outputs": [
    {
     "name": "stdout",
     "output_type": "stream",
     "text": [
      "Load file test1.dcm ...\n",
      "Pneumonia detected\n",
      "[0.6071025]\n",
      "Load file test2.dcm ...\n",
      "Pneumonia detected\n",
      "[0.60386366]\n",
      "Load file test3.dcm ...\n",
      "Pneumonia detected\n",
      "[0.60456926]\n",
      "Load file test4.dcm ...\n",
      "Load file test5.dcm ...\n",
      "Load file test6.dcm ...\n"
     ]
    }
   ],
   "source": [
    "test_dicoms = ['test1.dcm','test2.dcm','test3.dcm','test4.dcm','test5.dcm','test6.dcm']\n",
    "\n",
    "model_path = \"my_model.json\"\n",
    "weight_path = \"{}_my_model.best.hdf5\".format('xray_class')\n",
    "\n",
    "my_model = load_model(model_path, weight_path)\n",
    "thresh = 0.15\n",
    "\n",
    "# use the .dcm files to test your prediction\n",
    "for i in test_dicoms:\n",
    "    \n",
    "    img = np.array([])\n",
    "    img = check_dicom(i)\n",
    "    \n",
    "    if img is None:\n",
    "        continue\n",
    "        \n",
    "    img_proc = preprocess_image(img)\n",
    "    \n",
    "    pred = predict_image(my_model,img_proc,thresh)\n",
    "    print(pred)"
   ]
  }
 ],
 "metadata": {
  "kernelspec": {
   "display_name": "Python 3",
   "language": "python",
   "name": "python3"
  },
  "language_info": {
   "codemirror_mode": {
    "name": "ipython",
    "version": 3
   },
   "file_extension": ".py",
   "mimetype": "text/x-python",
   "name": "python",
   "nbconvert_exporter": "python",
   "pygments_lexer": "ipython3",
   "version": "3.6.8"
  }
 },
 "nbformat": 4,
 "nbformat_minor": 2
}
